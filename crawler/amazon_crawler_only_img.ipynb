{
 "cells": [
  {
   "cell_type": "code",
   "execution_count": 1,
   "metadata": {},
   "outputs": [],
   "source": [
    "import time, random, pickle\n",
    "from collections import defaultdict, deque\n",
    "import tqdm\n",
    "import pymongo\n",
    "\n",
    "import selenium\n",
    "from selenium import webdriver\n",
    "from selenium.webdriver import ActionChains\n",
    "\n",
    "from selenium.webdriver.common.keys import Keys\n",
    "from selenium.webdriver.common.by import By\n",
    "\n",
    "from selenium.webdriver.support import expected_conditions as EC\n",
    "from selenium.webdriver.support.ui import Select\n",
    "from selenium.webdriver.support.ui import WebDriverWait\n",
    "\n",
    "from pyvirtualdisplay import Display\n",
    "from webdriver_manager.chrome import ChromeDriverManager\n",
    "\n"
   ]
  },
  {
   "cell_type": "code",
   "execution_count": 2,
   "metadata": {},
   "outputs": [],
   "source": [
    "\n",
    "chrome_options = webdriver.ChromeOptions()\n",
    "chrome_options.add_argument('--headless')\n",
    "chrome_options.add_argument('--no-sandbox')\n",
    "chrome_options.add_argument('--disable-dev-shm-usage')\n",
    "\n",
    "\n",
    "path='chromedriver/chromedriver'\n",
    "\n",
    "driver = webdriver.Chrome(executable_path=path, options=chrome_options)"
   ]
  },
  {
   "cell_type": "code",
   "execution_count": 3,
   "metadata": {},
   "outputs": [],
   "source": [
    "pickle_data_path = './data/image0_sort_popular_overall_asin.pickle'\n",
    "\n",
    "with open(pickle_data_path, \"rb\") as f:\n",
    "    asin_number = pickle.load(f)\n",
    "\n",
    "mongo_DB = True\n",
    "\n",
    "if mongo_DB == True:\n",
    "    client = pymongo.MongoClient(\"mongodb://118.67.143.144:30001/\")\n",
    "    db = client[\"amazon\"]\n",
    "    Collection = db[\"books\"]"
   ]
  },
  {
   "cell_type": "code",
   "execution_count": 4,
   "metadata": {},
   "outputs": [
    {
     "name": "stderr",
     "output_type": "stream",
     "text": [
      "  0%|          | 0/418865 [00:10<?, ?it/s]\n"
     ]
    },
    {
     "name": "stdout",
     "output_type": "stream",
     "text": [
      "Whole Error:  038568231X\n"
     ]
    },
    {
     "name": "stderr",
     "output_type": "stream",
     "text": [
      "  0%|          | 0/418865 [00:04<?, ?it/s]\n"
     ]
    },
    {
     "name": "stdout",
     "output_type": "stream",
     "text": [
      "Whole Error:  038568231X\n"
     ]
    },
    {
     "name": "stderr",
     "output_type": "stream",
     "text": [
      "  0%|          | 0/418865 [00:02<?, ?it/s]\n"
     ]
    },
    {
     "name": "stdout",
     "output_type": "stream",
     "text": [
      "Whole Error:  038568231X\n"
     ]
    },
    {
     "name": "stderr",
     "output_type": "stream",
     "text": [
      "  0%|          | 0/418865 [00:02<?, ?it/s]\n"
     ]
    },
    {
     "name": "stdout",
     "output_type": "stream",
     "text": [
      "Whole Error:  038568231X\n"
     ]
    },
    {
     "name": "stderr",
     "output_type": "stream",
     "text": [
      "  0%|          | 0/418865 [00:01<?, ?it/s]\n"
     ]
    },
    {
     "name": "stdout",
     "output_type": "stream",
     "text": [
      "Whole Error:  038568231X\n"
     ]
    },
    {
     "name": "stderr",
     "output_type": "stream",
     "text": [
      "  0%|          | 0/418865 [00:03<?, ?it/s]\n"
     ]
    },
    {
     "name": "stdout",
     "output_type": "stream",
     "text": [
      "Whole Error:  038568231X\n"
     ]
    },
    {
     "name": "stderr",
     "output_type": "stream",
     "text": [
      "  0%|          | 0/418865 [00:02<?, ?it/s]\n"
     ]
    },
    {
     "name": "stdout",
     "output_type": "stream",
     "text": [
      "Whole Error:  038568231X\n"
     ]
    },
    {
     "name": "stderr",
     "output_type": "stream",
     "text": [
      "  0%|          | 0/418865 [00:01<?, ?it/s]\n"
     ]
    },
    {
     "name": "stdout",
     "output_type": "stream",
     "text": [
      "Whole Error:  038568231X\n"
     ]
    },
    {
     "name": "stderr",
     "output_type": "stream",
     "text": [
      "  0%|          | 0/418865 [00:03<?, ?it/s]\n"
     ]
    },
    {
     "name": "stdout",
     "output_type": "stream",
     "text": [
      "Whole Error:  038568231X\n"
     ]
    },
    {
     "name": "stderr",
     "output_type": "stream",
     "text": [
      "  0%|          | 0/418865 [00:01<?, ?it/s]\n"
     ]
    },
    {
     "name": "stdout",
     "output_type": "stream",
     "text": [
      "Whole Error:  038568231X\n"
     ]
    },
    {
     "name": "stderr",
     "output_type": "stream",
     "text": [
      "  0%|          | 0/418865 [00:01<?, ?it/s]\n"
     ]
    },
    {
     "name": "stdout",
     "output_type": "stream",
     "text": [
      "Whole Error:  038568231X\n"
     ]
    },
    {
     "name": "stderr",
     "output_type": "stream",
     "text": [
      "  0%|          | 0/418865 [00:02<?, ?it/s]\n"
     ]
    },
    {
     "name": "stdout",
     "output_type": "stream",
     "text": [
      "Whole Error:  038568231X\n"
     ]
    },
    {
     "name": "stderr",
     "output_type": "stream",
     "text": [
      "  0%|          | 0/418865 [00:02<?, ?it/s]\n"
     ]
    },
    {
     "name": "stdout",
     "output_type": "stream",
     "text": [
      "Whole Error:  038568231X\n"
     ]
    },
    {
     "name": "stderr",
     "output_type": "stream",
     "text": [
      "  0%|          | 0/418865 [00:02<?, ?it/s]\n"
     ]
    },
    {
     "name": "stdout",
     "output_type": "stream",
     "text": [
      "Whole Error:  038568231X\n"
     ]
    },
    {
     "name": "stderr",
     "output_type": "stream",
     "text": [
      "  0%|          | 0/418865 [00:03<?, ?it/s]\n"
     ]
    },
    {
     "name": "stdout",
     "output_type": "stream",
     "text": [
      "Whole Error:  038568231X\n"
     ]
    },
    {
     "name": "stderr",
     "output_type": "stream",
     "text": [
      "  0%|          | 0/418865 [00:03<?, ?it/s]\n"
     ]
    },
    {
     "name": "stdout",
     "output_type": "stream",
     "text": [
      "Whole Error:  038568231X\n"
     ]
    },
    {
     "name": "stderr",
     "output_type": "stream",
     "text": [
      "  0%|          | 0/418865 [00:02<?, ?it/s]\n"
     ]
    },
    {
     "name": "stdout",
     "output_type": "stream",
     "text": [
      "Whole Error:  038568231X\n"
     ]
    },
    {
     "name": "stderr",
     "output_type": "stream",
     "text": [
      "  0%|          | 0/418865 [00:03<?, ?it/s]\n"
     ]
    },
    {
     "name": "stdout",
     "output_type": "stream",
     "text": [
      "Whole Error:  038568231X\n"
     ]
    },
    {
     "name": "stderr",
     "output_type": "stream",
     "text": [
      "  0%|          | 0/418865 [00:02<?, ?it/s]\n"
     ]
    },
    {
     "name": "stdout",
     "output_type": "stream",
     "text": [
      "Whole Error:  038568231X\n"
     ]
    },
    {
     "name": "stderr",
     "output_type": "stream",
     "text": [
      "  0%|          | 0/418865 [00:02<?, ?it/s]\n"
     ]
    },
    {
     "name": "stdout",
     "output_type": "stream",
     "text": [
      "Whole Error:  038568231X\n"
     ]
    },
    {
     "name": "stderr",
     "output_type": "stream",
     "text": [
      "  0%|          | 0/418865 [00:00<?, ?it/s]"
     ]
    }
   ],
   "source": [
    "number = ''\n",
    "\n",
    "while True:\n",
    "    if mongo_DB == True:\n",
    "        query = {'asin': number}\n",
    "        cursor = Collection.find(filter=query ,projection={'imageURL': True})\n",
    "        for result in cursor:\n",
    "            if result['imageURL'] != '':\n",
    "                continue\n",
    "\n",
    "    try:\n",
    "        start_url = 'https://www.amazon.com/'\n",
    "\n",
    "        driver.get(url=start_url)\n",
    "\n",
    "        for num in tqdm.tqdm(range(0, len(asin_number))):\n",
    "            number = asin_number[num]\n",
    "            \n",
    "            assignment = True\n",
    "            sleep_k = 0\n",
    "\n",
    "            while assignment:\n",
    "                if driver.title == \"Sorry! Something went wrong!\":\n",
    "                    print(str(sleep_k) + ' step slept..',end='\\r', flush=True)\n",
    "                    time.sleep(5)\n",
    "\n",
    "                    driver.close()\n",
    "                    driver = webdriver.Chrome(executable_path=path, options=chrome_options)\n",
    "                    driver.get(url=start_url)\n",
    "                    sleep_k += 1\n",
    "\n",
    "                else:\n",
    "                    search_box = WebDriverWait(driver, 10).until(\n",
    "                        EC.presence_of_element_located((By.ID,\"twotabsearchtextbox\"))\n",
    "                    )\n",
    "                    search_box.clear()\n",
    "\n",
    "                    search_box.send_keys(number)\n",
    "                    search_box.send_keys(Keys.RETURN)\n",
    "\n",
    "                    assignment = False\n",
    "\n",
    "            time.sleep(2*random.random())\n",
    "\n",
    "            items_title_info = driver.find_elements(by=By.CLASS_NAME, value='s-title-instructions-style')\n",
    "            items_image_info = driver.find_elements(by=By.CLASS_NAME, value='s-image')\n",
    "            \n",
    "            img_list = []\n",
    "\n",
    "            for i in range(len(items_title_info)):\n",
    "                item_title = None\n",
    "                item_img_link = None\n",
    "\n",
    "                item_title_info = items_title_info[i]\n",
    "                item_image_info = items_image_info[i]\n",
    "                \n",
    "                try:\n",
    "                    item_title_text = item_title_info.text.split('\\n')\n",
    "                    item_title = item_title_text[0]\n",
    "                    item_img_link = item_image_info.get_attribute('src')\n",
    "\n",
    "                    img_list.append(item_img_link)\n",
    "                    \n",
    "                except:\n",
    "                    print('error_number:', number)\n",
    "                    continue\n",
    "\n",
    "            if mongo_DB == True:\n",
    "                query = {'asin': number}\n",
    "                Collection.update_many(filter=query, update={'$set': {'imageURL': img_list}})\n",
    "\n",
    "    except:\n",
    "        print('Whole Error: ', number)\n",
    "\n",
    "\n"
   ]
  },
  {
   "cell_type": "code",
   "execution_count": null,
   "metadata": {},
   "outputs": [],
   "source": []
  },
  {
   "cell_type": "code",
   "execution_count": null,
   "metadata": {},
   "outputs": [],
   "source": []
  },
  {
   "cell_type": "code",
   "execution_count": 11,
   "metadata": {},
   "outputs": [
    {
     "ename": "SyntaxError",
     "evalue": "invalid syntax (2005807228.py, line 10)",
     "output_type": "error",
     "traceback": [
      "\u001b[0;36m  Input \u001b[0;32mIn [11]\u001b[0;36m\u001b[0m\n\u001b[0;31m    cursor = Collection.update({'asin': '0001720392'}, {$set: {'imageURL': 'http'}}, {multi: True});\u001b[0m\n\u001b[0m                                                        ^\u001b[0m\n\u001b[0;31mSyntaxError\u001b[0m\u001b[0;31m:\u001b[0m invalid syntax\n"
     ]
    }
   ],
   "source": []
  },
  {
   "cell_type": "code",
   "execution_count": null,
   "metadata": {},
   "outputs": [],
   "source": []
  },
  {
   "cell_type": "code",
   "execution_count": null,
   "metadata": {},
   "outputs": [],
   "source": []
  },
  {
   "cell_type": "code",
   "execution_count": null,
   "metadata": {},
   "outputs": [],
   "source": []
  }
 ],
 "metadata": {
  "interpreter": {
   "hash": "d4d1e4263499bec80672ea0156c357c1ee493ec2b1c70f0acce89fc37c4a6abe"
  },
  "kernelspec": {
   "display_name": "Python 3.8.5 ('base')",
   "language": "python",
   "name": "python3"
  },
  "language_info": {
   "codemirror_mode": {
    "name": "ipython",
    "version": 3
   },
   "file_extension": ".py",
   "mimetype": "text/x-python",
   "name": "python",
   "nbconvert_exporter": "python",
   "pygments_lexer": "ipython3",
   "version": "3.8.5"
  },
  "orig_nbformat": 4
 },
 "nbformat": 4,
 "nbformat_minor": 2
}
