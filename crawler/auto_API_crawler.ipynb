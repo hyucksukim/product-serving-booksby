{
 "cells": [
  {
   "cell_type": "code",
   "execution_count": 1,
   "metadata": {},
   "outputs": [],
   "source": [
    "import urllib.request, requests, pickle, json, time, pymongo\n",
    "from collections import defaultdict\n",
    "\n",
    "\n",
    "# ↓--- 고정 ---↓\n",
    "\n",
    "naver_client_id_list = ['6x79fVFmyAsJwoczKRKv', 'iQ2_kgauWnDwovI2V_A2', 'PAjCUqGHlQfq9FV7VPHN', 'pc2a87TGwtMzR9sFtiW4'] # \"EZKJjFYCeCFKfj3qk2OM\" \n",
    "naver_client_secret_list = ['FvpgDL1RKw', '7zNrQQ09HJ', 'ADmfp7rlz2', 'wP5FkLr1Ua'] # \"dLMxOkCV6M\"\n",
    "naver_client_id = ''\n",
    "naver_client_secret = ''\n",
    "\n",
    "\n",
    "kakao_API_url = \"https://dapi.kakao.com//v3/search/book\"\n",
    "Kakao_MY_REST_API_list = ['f31f6598676120e724444fa392d6e5ac', '91ca26dcf2e331983be854a11384dbc5', '15433ce5f89fe1d58fba3bcd9e81f4fb', '9cc5c3b3e586a451faf880c470315296'] # 'a9f59d8981601a41b5fb31311b82b8a4'\n",
    "Kakao_MY_REST_API = ''\n",
    "\n",
    "tokens = ''\n",
    "\n",
    "# ↑--- 고정 ---↑\n",
    "\n",
    "\n",
    "pickle_data_path = '/workspace/data/image0_sort_popular_overall_asin.pickle'\n"
   ]
  },
  {
   "cell_type": "code",
   "execution_count": 2,
   "metadata": {},
   "outputs": [
    {
     "data": {
      "text/plain": [
       "418865"
      ]
     },
     "execution_count": 2,
     "metadata": {},
     "output_type": "execute_result"
    }
   ],
   "source": [
    "with open(pickle_data_path, \"rb\") as f:\n",
    "    asin_number = pickle.load(f)\n",
    "\n",
    "len(asin_number)"
   ]
  },
  {
   "cell_type": "code",
   "execution_count": 3,
   "metadata": {},
   "outputs": [
    {
     "ename": "IndexError",
     "evalue": "list index out of range",
     "output_type": "error",
     "traceback": [
      "\u001b[0;31m---------------------------------------------------------------------------\u001b[0m",
      "\u001b[0;31mIndexError\u001b[0m                                Traceback (most recent call last)",
      "\u001b[1;32m/workspace/crawler/auto_API_crawler.ipynb Cell 3'\u001b[0m in \u001b[0;36m<cell line: 10>\u001b[0;34m()\u001b[0m\n\u001b[1;32m     <a href='vscode-notebook-cell://ssh-remote%2B49.50.160.19/workspace/crawler/auto_API_crawler.ipynb#ch0000002vscode-remote?line=11'>12</a>\u001b[0m \u001b[39mif\u001b[39;00m (i \u001b[39m!=\u001b[39m \u001b[39m0\u001b[39m) \u001b[39mand\u001b[39;00m (i \u001b[39m%\u001b[39m \u001b[39m24000\u001b[39m) \u001b[39m==\u001b[39m \u001b[39m0\u001b[39m:\n\u001b[1;32m     <a href='vscode-notebook-cell://ssh-remote%2B49.50.160.19/workspace/crawler/auto_API_crawler.ipynb#ch0000002vscode-remote?line=12'>13</a>\u001b[0m     idx \u001b[39m+\u001b[39m\u001b[39m=\u001b[39m \u001b[39m1\u001b[39m\n\u001b[0;32m---> <a href='vscode-notebook-cell://ssh-remote%2B49.50.160.19/workspace/crawler/auto_API_crawler.ipynb#ch0000002vscode-remote?line=14'>15</a>\u001b[0m     naver_client_id \u001b[39m=\u001b[39m naver_client_id_list[idx]\n\u001b[1;32m     <a href='vscode-notebook-cell://ssh-remote%2B49.50.160.19/workspace/crawler/auto_API_crawler.ipynb#ch0000002vscode-remote?line=15'>16</a>\u001b[0m     naver_client_secret \u001b[39m=\u001b[39m naver_client_secret_list[idx]\n\u001b[1;32m     <a href='vscode-notebook-cell://ssh-remote%2B49.50.160.19/workspace/crawler/auto_API_crawler.ipynb#ch0000002vscode-remote?line=16'>17</a>\u001b[0m     Kakao_MY_REST_API \u001b[39m=\u001b[39m Kakao_MY_REST_API_list[idx]\n",
      "\u001b[0;31mIndexError\u001b[0m: list index out of range"
     ]
    }
   ],
   "source": [
    "file = open(\"asin_link.txt\", 'w')\n",
    "idx = 0\n",
    "minimum_length = 1\n",
    "\n",
    "naver_client_id = naver_client_id_list[idx]\n",
    "naver_client_secret = naver_client_secret_list[idx]\n",
    "Kakao_MY_REST_API = Kakao_MY_REST_API_list[idx]\n",
    "break_point = 288001\n",
    "\n",
    "for i in range(break_point, len(asin_number)):\n",
    "    time.sleep(0.1)\n",
    "    if (i != 0) and (i % 24000) == 0:\n",
    "        idx += 1\n",
    "        \n",
    "        naver_client_id = naver_client_id_list[idx]\n",
    "        naver_client_secret = naver_client_secret_list[idx]\n",
    "        Kakao_MY_REST_API = Kakao_MY_REST_API_list[idx]\n",
    "\n",
    "    try:\n",
    "        number = asin_number[i]\n",
    "        \n",
    "        input_text = number\n",
    "\n",
    "        url_list = []\n",
    "\n",
    "        # Naver API search\n",
    "\n",
    "        naver_input_text_n = urllib.parse.quote(input_text)\n",
    "\n",
    "        naver_url = \"https://openapi.naver.com/v1/search/book?query=\" + naver_input_text_n +\"&display=3&sort=sim\"\n",
    "\n",
    "        Send_request = urllib.request.Request(naver_url)\n",
    "        Send_request.add_header(\"X-Naver-Client-Id\", naver_client_id)\n",
    "        Send_request.add_header(\"X-Naver-Client-Secret\", naver_client_secret)\n",
    "\n",
    "        response = urllib.request.urlopen(Send_request)\n",
    "\n",
    "        success = response.getcode()\n",
    "\n",
    "        if (success == 200):\n",
    "            Response = response.read()\n",
    "            tokens = json.loads(Response.decode('utf-8'))\n",
    "\n",
    "            for token in tokens['items']:\n",
    "                try:\n",
    "                    url = token['image']\n",
    "                    if len(url) >= minimum_length:\n",
    "                        url_list.append(url)\n",
    "                except:\n",
    "                    continue\n",
    "\n",
    "            if len(url_list) >= minimum_length:\n",
    "                file.write(str(number) + '\\t' + str(url_list) + '\\n')\n",
    "        \n",
    "        else:\n",
    "            # Kakao API search\n",
    "\n",
    "            queryString = {'query' : input_text}\n",
    "            header = {'Authorization': 'KakaoAK ' + Kakao_MY_REST_API }\n",
    "\n",
    "            response = requests.get(kakao_API_url, headers=header, params=queryString)\n",
    "\n",
    "            tokens = response.json()\n",
    "\n",
    "            url = tokens[\"documents\"][0][\"thumbnail\"]\n",
    "            \n",
    "            if len(url) >= minimum_length:\n",
    "                url_list.append(url)\n",
    "\n",
    "            file.write(str(number) + '\\t' + str(url_list) + '\\n')\n",
    "\n",
    "    except:\n",
    "        break_point = i\n",
    "        print(break_point)\n",
    "        break\n",
    "\n",
    "file.close()"
   ]
  },
  {
   "cell_type": "code",
   "execution_count": 4,
   "metadata": {},
   "outputs": [],
   "source": [
    "# 데이터 추가\n",
    "\n",
    "client = pymongo.MongoClient(\"mongodb://118.67.143.144:30001/\")\n",
    "\n",
    "db = client[\"amazon\"]\n",
    "collection = db[\"url\"]\n",
    "\n",
    "# DB에 어떤 collection이 있는 지 확인\n",
    "# print(db.list_collection_names())\n",
    "\n",
    "file = open(\"asin_link.txt\", 'r') # 데이터 형식 : asin_number\\t[url_1, url_2, ...]\\n\n",
    "\n",
    "files = file.readlines()\n",
    "\n",
    "for line in files:\n",
    "    line = line.rstrip()\n",
    "    line = line.split('\\t') \n",
    "    asin = line[0]\n",
    "    url_dump = line[1][1:len(line[1])-1].replace(' ', '')\n",
    "    url_list = url_dump.split(',')\n",
    "    url_list_processed = [i[1:len(i)-1] for i in url_list]\n",
    "\n",
    "    x = collection.insert_one({\"asin\": asin, \"image_url\": url_list_processed})\n",
    "\n",
    "file.close()"
   ]
  },
  {
   "cell_type": "code",
   "execution_count": null,
   "metadata": {},
   "outputs": [],
   "source": []
  },
  {
   "cell_type": "code",
   "execution_count": null,
   "metadata": {},
   "outputs": [],
   "source": []
  },
  {
   "cell_type": "code",
   "execution_count": null,
   "metadata": {},
   "outputs": [],
   "source": []
  },
  {
   "cell_type": "code",
   "execution_count": null,
   "metadata": {},
   "outputs": [],
   "source": []
  },
  {
   "cell_type": "code",
   "execution_count": null,
   "metadata": {},
   "outputs": [],
   "source": []
  }
 ],
 "metadata": {
  "interpreter": {
   "hash": "d4d1e4263499bec80672ea0156c357c1ee493ec2b1c70f0acce89fc37c4a6abe"
  },
  "kernelspec": {
   "display_name": "Python 3.8.5 ('base')",
   "language": "python",
   "name": "python3"
  },
  "language_info": {
   "codemirror_mode": {
    "name": "ipython",
    "version": 3
   },
   "file_extension": ".py",
   "mimetype": "text/x-python",
   "name": "python",
   "nbconvert_exporter": "python",
   "pygments_lexer": "ipython3",
   "version": "3.8.5"
  },
  "orig_nbformat": 4
 },
 "nbformat": 4,
 "nbformat_minor": 2
}
